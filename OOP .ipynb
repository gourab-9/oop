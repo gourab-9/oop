{
 "cells": [
  {
   "cell_type": "code",
   "execution_count": 1,
   "id": "74845181",
   "metadata": {},
   "outputs": [
    {
     "ename": "AttributeError",
     "evalue": "'list' object has no attribute 'upper'",
     "output_type": "error",
     "traceback": [
      "\u001b[1;31m---------------------------------------------------------------------------\u001b[0m",
      "\u001b[1;31mAttributeError\u001b[0m                            Traceback (most recent call last)",
      "Input \u001b[1;32mIn [1]\u001b[0m, in \u001b[0;36m<cell line: 2>\u001b[1;34m()\u001b[0m\n\u001b[0;32m      1\u001b[0m L \u001b[38;5;241m=\u001b[39m [\u001b[38;5;241m1\u001b[39m,\u001b[38;5;241m2\u001b[39m,\u001b[38;5;241m3\u001b[39m]\n\u001b[1;32m----> 2\u001b[0m \u001b[43mL\u001b[49m\u001b[38;5;241;43m.\u001b[39;49m\u001b[43mupper\u001b[49m()\n",
      "\u001b[1;31mAttributeError\u001b[0m: 'list' object has no attribute 'upper'"
     ]
    }
   ],
   "source": [
    "L = [1,2,3]\n",
    "L.upper()"
   ]
  },
  {
   "cell_type": "code",
   "execution_count": 3,
   "id": "10830945",
   "metadata": {},
   "outputs": [
    {
     "ename": "AttributeError",
     "evalue": "'str' object has no attribute 'append'",
     "output_type": "error",
     "traceback": [
      "\u001b[1;31m---------------------------------------------------------------------------\u001b[0m",
      "\u001b[1;31mAttributeError\u001b[0m                            Traceback (most recent call last)",
      "Input \u001b[1;32mIn [3]\u001b[0m, in \u001b[0;36m<cell line: 3>\u001b[1;34m()\u001b[0m\n\u001b[0;32m      1\u001b[0m s \u001b[38;5;241m=\u001b[39m \u001b[38;5;124m'\u001b[39m\u001b[38;5;124mHello\u001b[39m\u001b[38;5;124m'\u001b[39m\n\u001b[0;32m      2\u001b[0m s\u001b[38;5;241m.\u001b[39mupper()\n\u001b[1;32m----> 3\u001b[0m \u001b[43ms\u001b[49m\u001b[38;5;241;43m.\u001b[39;49m\u001b[43mappend\u001b[49m(\u001b[38;5;124m'\u001b[39m\u001b[38;5;124mx\u001b[39m\u001b[38;5;124m'\u001b[39m)\n",
      "\u001b[1;31mAttributeError\u001b[0m: 'str' object has no attribute 'append'"
     ]
    }
   ],
   "source": [
    "s = 'Hello'\n",
    "s.upper()\n",
    "s.append('x')"
   ]
  },
  {
   "cell_type": "code",
   "execution_count": 10,
   "id": "7794c6f8",
   "metadata": {},
   "outputs": [],
   "source": [
    "# Object literals\n",
    "L = [1,2,3]"
   ]
  },
  {
   "cell_type": "code",
   "execution_count": 7,
   "id": "3297ec24",
   "metadata": {},
   "outputs": [
    {
     "data": {
      "text/plain": [
       "[]"
      ]
     },
     "execution_count": 7,
     "metadata": {},
     "output_type": "execute_result"
    }
   ],
   "source": [
    "L = list()\n",
    "L"
   ]
  },
  {
   "cell_type": "code",
   "execution_count": 52,
   "id": "24d6975a",
   "metadata": {},
   "outputs": [
    {
     "name": "stdout",
     "output_type": "stream",
     "text": [
      "\n",
      "        Hi, How can i help you?\n",
      "        1. Press 1 to create pin\n",
      "        2. press 2 to change pin\n",
      "        3. press 3 to check balance\n",
      "        4. press 4 to withdraw\n",
      "        5. Anything else to exit\n",
      "        1\n",
      "Enter your pin5555\n",
      "Enter your balance 50000000\n",
      "pin created successfully\n",
      "\n",
      "        Hi, How can i help you?\n",
      "        1. Press 1 to create pin\n",
      "        2. press 2 to change pin\n",
      "        3. press 3 to check balance\n",
      "        4. press 4 to withdraw\n",
      "        5. Anything else to exit\n",
      "        4\n",
      "enter your pin 5555\n",
      "enter your amount to withdraw2500000\n",
      "your current balance is  47500000\n",
      "\n",
      "        Hi, How can i help you?\n",
      "        1. Press 1 to create pin\n",
      "        2. press 2 to change pin\n",
      "        3. press 3 to check balance\n",
      "        4. press 4 to withdraw\n",
      "        5. Anything else to exit\n",
      "        3\n",
      "Enter your pin 5555\n",
      "your balance is  47500000\n",
      "\n",
      "        Hi, How can i help you?\n",
      "        1. Press 1 to create pin\n",
      "        2. press 2 to change pin\n",
      "        3. press 3 to check balance\n",
      "        4. press 4 to withdraw\n",
      "        5. Anything else to exit\n",
      "        6\n"
     ]
    }
   ],
   "source": [
    "obj =  Atm()"
   ]
  },
  {
   "cell_type": "code",
   "execution_count": 9,
   "id": "97e4a36d",
   "metadata": {},
   "outputs": [
    {
     "data": {
      "text/plain": [
       "''"
      ]
     },
     "execution_count": 9,
     "metadata": {},
     "output_type": "execute_result"
    }
   ],
   "source": [
    "s = str()\n",
    "s"
   ]
  },
  {
   "cell_type": "code",
   "execution_count": 54,
   "id": "aa1ff805",
   "metadata": {},
   "outputs": [],
   "source": [
    "# Pascal Case   (HelloWorld--> each word starts with capital letter)\n",
    "class Atm :         #(MyAtm is the correct syntax MYATM is not the correct syntax)\n",
    "    \n",
    "    # constructor(special function)-->> superpower->\n",
    "    def __init__(self):\n",
    "        print(id(self))\n",
    "        self.pin = ''\n",
    "        self.balance = 0\n",
    "        #self.menu()\n",
    "        \n",
    "    def menu(self):\n",
    "        user_input = input(\"\"\"\n",
    "        Hi, How can i help you?\n",
    "        1. Press 1 to create pin\n",
    "        2. press 2 to change pin\n",
    "        3. press 3 to check balance\n",
    "        4. press 4 to withdraw\n",
    "        5. Anything else to exit\n",
    "        \"\"\")\n",
    "        \n",
    "        if user_input == '1':\n",
    "            self.create_pin()\n",
    "        elif user_input == '2':\n",
    "            self.change_pin()\n",
    "        elif user_input == '3':\n",
    "            self.check_balance()\n",
    "        elif user_input == '4':\n",
    "            self.withdraw()\n",
    "        else:\n",
    "            pass\n",
    "        \n",
    "    def create_pin (self):\n",
    "        user_pin = input('Enter your pin')\n",
    "        self.pin = user_pin\n",
    "        \n",
    "        user_balance = int(input(\"Enter your balance \"))\n",
    "        self.balance = user_balance\n",
    "        \n",
    "        print('pin created successfully')\n",
    "        self.menu()\n",
    "        \n",
    "    def change_pin (self):\n",
    "        old_pin = input(\"enter your old pin \")\n",
    "        \n",
    "        if old_pin == self.pin:\n",
    "            new_pin = input(\"enter your new pin \")\n",
    "            self.pin = new_pin\n",
    "            print('pin change successfull')\n",
    "            self.menu()\n",
    "        else:\n",
    "            print('you are not eligible to change the pin')\n",
    "            self.menu()\n",
    "            \n",
    "    def check_balance(self):\n",
    "        user_pin1 = input('Enter your pin ')\n",
    "        if user_pin1 == self.pin:\n",
    "            print('your balance is ',self.balance)\n",
    "            self.menu()\n",
    "        else:\n",
    "            print('your {} pin is not correct').format(user_Pin1)\n",
    "            self.menu()\n",
    "            \n",
    "    def withdraw(self):\n",
    "        user_pin2 = input(\"enter your pin \")\n",
    "        if user_pin2 == self.pin:\n",
    "            wdw = int(input('enter your amount to withdraw'))\n",
    "            if wdw <= self.balance:\n",
    "                self.balance = (self.balance-wdw)\n",
    "                print(\"your current balance is \",self.balance)\n",
    "                \n",
    "            else:\n",
    "                print(\"you don't have that much balance\")\n",
    "        else:\n",
    "            print('you need to enter right password')\n",
    "            \n",
    "        self.menu()"
   ]
  },
  {
   "cell_type": "code",
   "execution_count": 14,
   "id": "891d1c7f",
   "metadata": {},
   "outputs": [
    {
     "name": "stdout",
     "output_type": "stream",
     "text": [
      "<class '__main__.Atm'>\n"
     ]
    }
   ],
   "source": [
    "print(type(obj))"
   ]
  },
  {
   "cell_type": "code",
   "execution_count": 55,
   "id": "9895a2a2",
   "metadata": {},
   "outputs": [
    {
     "name": "stdout",
     "output_type": "stream",
     "text": [
      "1433885332720\n"
     ]
    }
   ],
   "source": [
    "obj = Atm()"
   ]
  },
  {
   "cell_type": "code",
   "execution_count": 56,
   "id": "cc64b928",
   "metadata": {},
   "outputs": [
    {
     "data": {
      "text/plain": [
       "1433885332720"
      ]
     },
     "execution_count": 56,
     "metadata": {},
     "output_type": "execute_result"
    }
   ],
   "source": [
    " id(obj)"
   ]
  },
  {
   "cell_type": "raw",
   "id": "3fb0c0ef",
   "metadata": {},
   "source": [
    "what is difference between method and function\n",
    "\n",
    "when the function is inside of class that is known as method, and when the function is outside of class that is known as function.\n",
    "\n",
    "i:e -->> l = [1,2,3,4]\n",
    "         len(l)-->len is a function\n",
    "         l.append-->>append is method\n",
    "         "
   ]
  },
  {
   "cell_type": "raw",
   "id": "1bb4eddd",
   "metadata": {},
   "source": [
    "when to use constructor??\n",
    "\n",
    "for example aisa kon sa cheez hai jiska control aap user ko nahi dena chahte ho aur automatically start ho application start hone time usi cheez ka code aap constructor ko dete ho \n",
    "CONSTRUCTOR is used to write a configuration related code matlab mujhe apne application ko apne database se connect karna hai apne backend se connect karna hai to uska code hum apne constructor me  likhenge uska code hum kisi aur function k andar nahi likhenge kyuki agar hum kahi aur likhenge to actually i am relying on the customer to bhai wo button daba de to mai data base se connect kar paunga 1-->> agar kisi app ko internet se connect hona hai to internet se connect hone ka code hum                 constructor me likhenge. \n",
    "\n",
    "jo v cheez aap customer ko bina puchhe karna chahte ho uska code aap constructor me likhte ho.."
   ]
  },
  {
   "cell_type": "raw",
   "id": "151f8241",
   "metadata": {},
   "source": [
    "self is nothing but it's a current object, its like a mediator"
   ]
  },
  {
   "cell_type": "raw",
   "id": "8dcf91d7",
   "metadata": {},
   "source": [
    "class k andar koi v cheez ek dusre se directly baat nahi kar sakti function variable k saath baat nahi kar sakta aur ek function dusre function k saath baat nahi kar sakta that's  why jab v aapko intraclass communication ki jarurat paregi tab aapko self ki jarurat paregi."
   ]
  },
  {
   "cell_type": "markdown",
   "id": "9c2aa343",
   "metadata": {},
   "source": [
    "# Make a data type Fraction by it self"
   ]
  },
  {
   "cell_type": "code",
   "execution_count": 92,
   "id": "7188688a",
   "metadata": {},
   "outputs": [],
   "source": [
    "class Fraction:\n",
    "    \n",
    "    #Parameterized Constructor\n",
    "    def __init__(self,x,y):\n",
    "        self.num = x\n",
    "        self.den = y\n",
    "        \n",
    "    def __str__(self):\n",
    "        return '{}/{}'.format(self.num,self.den)\n",
    "    \n",
    "    def __add__(self,other):\n",
    "        new_num = self.num*other.den + other.num*self.den\n",
    "        new_den = self.den*other.den\n",
    "        \n",
    "        \n",
    "        return '{}/{}'.format(new_num,new_den)\n",
    "\n",
    "    \n",
    "    def __sub__(self,other):\n",
    "        new_num = self.num*other.den - other.num*self.den\n",
    "        new_den = self.den*other.den\n",
    "        \n",
    "        \n",
    "        return '{}/{}'.format(new_num,new_den)\n",
    "    \n",
    "\n",
    "    \n",
    "    def __mul__(self,other):\n",
    "        new_num = self.num*other.num\n",
    "        new_den = self.den*other.den\n",
    "        \n",
    "        \n",
    "        return '{}/{}'.format(new_num,new_den)\n",
    "    \n",
    "\n",
    "    def __truediv__(self,other):\n",
    "        new_num = self.num*other.den\n",
    "        new_den = self.den*other.num\n",
    "        \n",
    "        \n",
    "        return '{}/{}'.format(new_num,new_den)\n",
    "    \n",
    "    \n",
    "    \n",
    "    def convert_to_decimal (self):\n",
    "        return self.num/self.den"
   ]
  },
  {
   "cell_type": "code",
   "execution_count": 93,
   "id": "38639f9d",
   "metadata": {},
   "outputs": [],
   "source": [
    "fr1 = Fraction(3,4)\n",
    "fr2 = Fraction(1,2)"
   ]
  },
  {
   "cell_type": "code",
   "execution_count": 85,
   "id": "06f7f3a0",
   "metadata": {},
   "outputs": [
    {
     "name": "stdout",
     "output_type": "stream",
     "text": [
      "1/2\n",
      "3/4\n"
     ]
    }
   ],
   "source": [
    "print(fr2)\n",
    "print(fr1)"
   ]
  },
  {
   "cell_type": "code",
   "execution_count": 86,
   "id": "885860de",
   "metadata": {},
   "outputs": [
    {
     "name": "stdout",
     "output_type": "stream",
     "text": [
      "<class '__main__.Fraction'>\n"
     ]
    }
   ],
   "source": [
    "print(type(fr1))"
   ]
  },
  {
   "cell_type": "code",
   "execution_count": 87,
   "id": "e2a2b0a8",
   "metadata": {},
   "outputs": [
    {
     "name": "stdout",
     "output_type": "stream",
     "text": [
      "10/8\n"
     ]
    }
   ],
   "source": [
    "print(fr1+fr2)"
   ]
  },
  {
   "cell_type": "code",
   "execution_count": 88,
   "id": "90f15f0a",
   "metadata": {},
   "outputs": [
    {
     "name": "stdout",
     "output_type": "stream",
     "text": [
      "2/8\n"
     ]
    }
   ],
   "source": [
    "print(fr1-fr2)"
   ]
  },
  {
   "cell_type": "code",
   "execution_count": 90,
   "id": "b59d61fb",
   "metadata": {},
   "outputs": [
    {
     "name": "stdout",
     "output_type": "stream",
     "text": [
      "3/8\n"
     ]
    }
   ],
   "source": [
    "print(fr1*fr2)"
   ]
  },
  {
   "cell_type": "code",
   "execution_count": 94,
   "id": "5c98e62c",
   "metadata": {},
   "outputs": [
    {
     "name": "stdout",
     "output_type": "stream",
     "text": [
      "6/4\n"
     ]
    }
   ],
   "source": [
    "print(fr1/fr2)"
   ]
  },
  {
   "cell_type": "code",
   "execution_count": 95,
   "id": "8942687b",
   "metadata": {},
   "outputs": [
    {
     "data": {
      "text/plain": [
       "0.75"
      ]
     },
     "execution_count": 95,
     "metadata": {},
     "output_type": "execute_result"
    }
   ],
   "source": [
    "fr1.convert_to_decimal()"
   ]
  },
  {
   "cell_type": "code",
   "execution_count": 34,
   "id": "51582be7",
   "metadata": {},
   "outputs": [],
   "source": [
    "class point:\n",
    "    def __init__(self,x,y):\n",
    "        self.x_cod = x\n",
    "        self.y_cod = y\n",
    "        \n",
    "    def __str__(self):\n",
    "        return '<{},{}>'.format(self.x_cod,self.y_cod)\n",
    "    \n",
    "    def euclidean_distance(self,other):\n",
    "        return ((self.x_cod - other.x_cod)**2)**0.5 + ((self.y_cod - other.y_cod)**2)**0.5\n",
    "    \n",
    "    def distance_from_origin(self):\n",
    "        return self.euclidean_distance(point(0,0))\n",
    "        #return (self.x_cod**2 + self.y_cod**2)**0.5\n",
    "        \n",
    "        \n",
    "        \n",
    "        \n",
    "        \n",
    "class Line:\n",
    "    def __init__(self,A,B,C):\n",
    "        self.A = A\n",
    "        self.B = B\n",
    "        self.C = C\n",
    "        \n",
    "    def __str__(self):\n",
    "        return '{}x + {}y + {} = 0'.format(self.A,self.B,self.C)\n",
    "    \n",
    "    def point_on_line(line,point):\n",
    "        if line.A*point.x_cod + line.B*point.y_cod + line.C ==0:\n",
    "            return 'lies on the line'\n",
    "        else:\n",
    "            return \"Doesn't lies on the line\"\n",
    "        \n",
    "        \n",
    "        \n",
    "    def shortest_distance(line,point):\n",
    "        return abs(line.A*point.x_cod + line.B*point.y_cod + line.C) / (line.A**2 + line.B**2)**0.5"
   ]
  },
  {
   "cell_type": "code",
   "execution_count": 20,
   "id": "32ba0348",
   "metadata": {},
   "outputs": [
    {
     "name": "stdout",
     "output_type": "stream",
     "text": [
      "<10,4>\n",
      "<0,0>\n"
     ]
    },
    {
     "data": {
      "text/plain": [
       "0.0"
      ]
     },
     "execution_count": 20,
     "metadata": {},
     "output_type": "execute_result"
    }
   ],
   "source": [
    "p1 = point(0,0)\n",
    "p2 = point(10,4)\n",
    "print(p2)\n",
    "print(p1)\n",
    "p1.euclidean_distance(p2)\n",
    "p1.distance_from_origin()"
   ]
  },
  {
   "cell_type": "code",
   "execution_count": 24,
   "id": "48608319",
   "metadata": {},
   "outputs": [
    {
     "name": "stdout",
     "output_type": "stream",
     "text": [
      "3x + 4y + 5 = 0\n"
     ]
    }
   ],
   "source": [
    "l1 = Line(3,4,5)\n",
    "print(l1)"
   ]
  },
  {
   "cell_type": "code",
   "execution_count": 36,
   "id": "408aa38d",
   "metadata": {},
   "outputs": [
    {
     "name": "stdout",
     "output_type": "stream",
     "text": [
      "1x + 1y + -2 = 0\n",
      "<1,1>\n"
     ]
    },
    {
     "data": {
      "text/plain": [
       "'lies on the line'"
      ]
     },
     "execution_count": 36,
     "metadata": {},
     "output_type": "execute_result"
    }
   ],
   "source": [
    "l1 = Line(1,1,-2)\n",
    "p1 = point(1,1)\n",
    "print(l1)\n",
    "print(p1)\n",
    "\n",
    "l1.point_on_line(p1)"
   ]
  },
  {
   "cell_type": "code",
   "execution_count": 37,
   "id": "c63823a1",
   "metadata": {},
   "outputs": [
    {
     "name": "stdout",
     "output_type": "stream",
     "text": [
      "1x + 1y + -2 = 0\n",
      "<1,1>\n"
     ]
    },
    {
     "data": {
      "text/plain": [
       "0.0"
      ]
     },
     "execution_count": 37,
     "metadata": {},
     "output_type": "execute_result"
    }
   ],
   "source": [
    "l1 = Line(1,1,-2)\n",
    "p1 = point(1,1)\n",
    "print(l1)\n",
    "print(p1)\n",
    "\n",
    "l1.shortest_distance(p1)"
   ]
  },
  {
   "cell_type": "code",
   "execution_count": 39,
   "id": "38661fc5",
   "metadata": {},
   "outputs": [
    {
     "name": "stdout",
     "output_type": "stream",
     "text": [
      "1x + 1y + -2 = 0\n",
      "<1,10>\n"
     ]
    },
    {
     "data": {
      "text/plain": [
       "6.363961030678928"
      ]
     },
     "execution_count": 39,
     "metadata": {},
     "output_type": "execute_result"
    }
   ],
   "source": [
    "l1 = Line(1,1,-2)\n",
    "p1 = point(1,10)\n",
    "print(l1)\n",
    "print(p1)\n",
    "\n",
    "l1.shortest_distance(p1)"
   ]
  },
  {
   "cell_type": "markdown",
   "id": "85d7373b",
   "metadata": {},
   "source": [
    "## How objects access attributes"
   ]
  },
  {
   "cell_type": "code",
   "execution_count": 40,
   "id": "deeb8871",
   "metadata": {},
   "outputs": [],
   "source": [
    "class Person:\n",
    "    def __init__(self,name_input,country_input):\n",
    "        self.name = name_input\n",
    "        self.country = country_input\n",
    "        \n",
    "    def greet(self):\n",
    "        if self.country == 'india':\n",
    "            print ('Namastey', self.name)\n",
    "        else:\n",
    "            print ('Hello',self.name)"
   ]
  },
  {
   "cell_type": "code",
   "execution_count": 42,
   "id": "c0ef79f7",
   "metadata": {},
   "outputs": [
    {
     "data": {
      "text/plain": [
       "'India'"
      ]
     },
     "execution_count": 42,
     "metadata": {},
     "output_type": "execute_result"
    }
   ],
   "source": [
    "p = Person('Gourab','India')\n",
    "p.country"
   ]
  },
  {
   "cell_type": "code",
   "execution_count": 43,
   "id": "71c156af",
   "metadata": {},
   "outputs": [
    {
     "data": {
      "text/plain": [
       "'Gourab'"
      ]
     },
     "execution_count": 43,
     "metadata": {},
     "output_type": "execute_result"
    }
   ],
   "source": [
    "p.name"
   ]
  },
  {
   "cell_type": "code",
   "execution_count": 45,
   "id": "587e11af",
   "metadata": {},
   "outputs": [
    {
     "name": "stdout",
     "output_type": "stream",
     "text": [
      "Hello Gourab\n"
     ]
    }
   ],
   "source": [
    "p.greet()"
   ]
  },
  {
   "cell_type": "code",
   "execution_count": 46,
   "id": "37b1b9d0",
   "metadata": {},
   "outputs": [],
   "source": [
    "p.gender = 'male'"
   ]
  },
  {
   "cell_type": "code",
   "execution_count": 47,
   "id": "4b9053e2",
   "metadata": {},
   "outputs": [
    {
     "data": {
      "text/plain": [
       "'male'"
      ]
     },
     "execution_count": 47,
     "metadata": {},
     "output_type": "execute_result"
    }
   ],
   "source": [
    "p.gender"
   ]
  },
  {
   "cell_type": "code",
   "execution_count": 64,
   "id": "d8cb8720",
   "metadata": {},
   "outputs": [],
   "source": [
    "# Refrence variable\n",
    "# Class without a refrence\n",
    "class Person:\n",
    "    \n",
    "    \n",
    "    def __init__(self):\n",
    "        self.name = 'Gourab'\n",
    "        self.gender = 'male'\n",
    "        \n",
    "    \n",
    "p = Person()\n",
    "q = p"
   ]
  },
  {
   "cell_type": "code",
   "execution_count": 65,
   "id": "3dc929d3",
   "metadata": {},
   "outputs": [
    {
     "name": "stdout",
     "output_type": "stream",
     "text": [
      "1865288134080\n",
      "1865288134080\n"
     ]
    }
   ],
   "source": [
    "print(id(p))\n",
    "print(id(q))"
   ]
  },
  {
   "cell_type": "code",
   "execution_count": 67,
   "id": "5f00bb2b",
   "metadata": {},
   "outputs": [
    {
     "name": "stdout",
     "output_type": "stream",
     "text": [
      "Gourab\n",
      "Gourab\n",
      "Singh\n",
      "Singh\n"
     ]
    }
   ],
   "source": [
    "print(p.name)\n",
    "print(q.name)\n",
    "q.name = 'Singh'\n",
    "print(q.name)\n",
    "print(p.name)"
   ]
  },
  {
   "cell_type": "markdown",
   "id": "f2c49bf8",
   "metadata": {},
   "source": [
    "## pass by refrence"
   ]
  },
  {
   "cell_type": "code",
   "execution_count": 73,
   "id": "fc847f87",
   "metadata": {},
   "outputs": [
    {
     "name": "stdout",
     "output_type": "stream",
     "text": [
      "Hi my name is  Singh  and i am a  Male\n"
     ]
    },
    {
     "ename": "AttributeError",
     "evalue": "'tuple' object has no attribute 'name'",
     "output_type": "error",
     "traceback": [
      "\u001b[1;31m---------------------------------------------------------------------------\u001b[0m",
      "\u001b[1;31mAttributeError\u001b[0m                            Traceback (most recent call last)",
      "Input \u001b[1;32mIn [73]\u001b[0m, in \u001b[0;36m<cell line: 16>\u001b[1;34m()\u001b[0m\n\u001b[0;32m     14\u001b[0m p \u001b[38;5;241m=\u001b[39m Person(\u001b[38;5;124m\"\u001b[39m\u001b[38;5;124mSingh\u001b[39m\u001b[38;5;124m\"\u001b[39m,\u001b[38;5;124m\"\u001b[39m\u001b[38;5;124mMale\u001b[39m\u001b[38;5;124m\"\u001b[39m)\n\u001b[0;32m     15\u001b[0m x \u001b[38;5;241m=\u001b[39m greet(p)\n\u001b[1;32m---> 16\u001b[0m \u001b[38;5;28mprint\u001b[39m(\u001b[43mx\u001b[49m\u001b[38;5;241;43m.\u001b[39;49m\u001b[43mname\u001b[49m)\n\u001b[0;32m     17\u001b[0m \u001b[38;5;28mprint\u001b[39m(x\u001b[38;5;241m.\u001b[39mgender)\n",
      "\u001b[1;31mAttributeError\u001b[0m: 'tuple' object has no attribute 'name'"
     ]
    }
   ],
   "source": [
    "class Person:\n",
    "\n",
    "    def __init__(self,name,gender):\n",
    "        self.name = name\n",
    "        self.gender = gender\n",
    "\n",
    "        \n",
    "# Outside the class -->> function       \n",
    "def greet(person):\n",
    "    print('Hi my name is ',person.name,' and i am a ',person.gender)\n",
    "    p1 = ('Gourab','male')\n",
    "    return p1\n",
    "\n",
    "p = Person(\"Singh\",\"Male\")\n",
    "x = greet(p)\n",
    "print(x.name)\n",
    "print(x.gender)"
   ]
  },
  {
   "cell_type": "code",
   "execution_count": 80,
   "id": "93509471",
   "metadata": {},
   "outputs": [
    {
     "name": "stdout",
     "output_type": "stream",
     "text": [
      "1865287029472\n",
      "1865287029472\n",
      "RajaMauli\n",
      "140727047068888\n"
     ]
    }
   ],
   "source": [
    "class Person:\n",
    "\n",
    "    def __init__(self,name,gender):\n",
    "        self.name = name\n",
    "        self.gender = gender\n",
    "\n",
    "        \n",
    "# Outside the class -->> function       \n",
    "def greet(person):\n",
    "    print(id(person))\n",
    "    #print('Hi my name is ',person.name,' and i am a ',person.gender)\n",
    "    person.name = 'RajaMauli'\n",
    "    print(person.name)\n",
    "    #p1 = ('Gourab','male')\n",
    "    #return p1\n",
    "\n",
    "p = Person(\"Singh\",\"Male\")\n",
    "print(id(p))\n",
    "p1 = greet(p)\n",
    "#print(p.name)\n",
    "print(id(p1))"
   ]
  },
  {
   "cell_type": "markdown",
   "id": "7d3dab00",
   "metadata": {},
   "source": [
    "# Encapsulaton"
   ]
  },
  {
   "cell_type": "code",
   "execution_count": 81,
   "id": "d33c6c7d",
   "metadata": {},
   "outputs": [],
   "source": [
    "# instance var\n",
    "\n",
    "class Person:\n",
    "    \n",
    "    def __init__(self,name_input,country_input):\n",
    "        self.name = name_input\n",
    "        self.country = country_input\n",
    "        \n",
    "        \n",
    "        \n",
    "p1 = Person('Gourab','Bihar')\n",
    "p2 = Person('Singh','India')"
   ]
  },
  {
   "cell_type": "code",
   "execution_count": 82,
   "id": "80df1541",
   "metadata": {},
   "outputs": [
    {
     "data": {
      "text/plain": [
       "'Singh'"
      ]
     },
     "execution_count": 82,
     "metadata": {},
     "output_type": "execute_result"
    }
   ],
   "source": [
    "p2.name"
   ]
  },
  {
   "cell_type": "code",
   "execution_count": 83,
   "id": "4eb8a9f2",
   "metadata": {},
   "outputs": [
    {
     "data": {
      "text/plain": [
       "'Bihar'"
      ]
     },
     "execution_count": 83,
     "metadata": {},
     "output_type": "execute_result"
    }
   ],
   "source": [
    "p1.country"
   ]
  },
  {
   "cell_type": "code",
   "execution_count": 13,
   "id": "1eb824fa",
   "metadata": {},
   "outputs": [
    {
     "name": "stdout",
     "output_type": "stream",
     "text": [
      "Gourab male\n",
      "Sonu male\n",
      "Ankita female\n"
     ]
    }
   ],
   "source": [
    "class Person:\n",
    "    \n",
    "    \n",
    "    def __init__(self,name,gender):\n",
    "        self.name = name\n",
    "        self.gender = gender\n",
    "        \n",
    "p1 = Person('Gourab','male')\n",
    "p2 = Person('Sonu','male')\n",
    "p3 = Person('Ankita','female')\n",
    "\n",
    "l = [p1,p2,p3]\n",
    "\n",
    "for i in l:\n",
    "    print(i.name,i.gender)"
   ]
  },
  {
   "cell_type": "code",
   "execution_count": 14,
   "id": "71a91271",
   "metadata": {},
   "outputs": [
    {
     "name": "stdout",
     "output_type": "stream",
     "text": [
      "male\n",
      "male\n",
      "female\n"
     ]
    }
   ],
   "source": [
    "class Person:\n",
    "    \n",
    "    \n",
    "    def __init__(self,name,gender):\n",
    "        self.name = name\n",
    "        self.gender = gender\n",
    "        \n",
    "p1 = Person('Gourab','male')\n",
    "p2 = Person('Sonu','male')\n",
    "p3 = Person('Ankita','female')\n",
    "\n",
    "d = {'p1':p1,'p2':p2,'p3':p3}\n",
    "\n",
    "for i in d:\n",
    "    print(d[i].gender)"
   ]
  },
  {
   "cell_type": "code",
   "execution_count": 54,
   "id": "8f74f5b1",
   "metadata": {},
   "outputs": [],
   "source": [
    "# Pascal Case   (HelloWorld--> each word starts with capital letter)\n",
    "class Atm :         #(MyAtm is the correct syntax MYATM is not the correct syntax)\n",
    "    \n",
    "    __counter = 1\n",
    "    \n",
    "    # constructor(special function)-->> superpower->\n",
    "    def __init__(self):\n",
    "        print(id(self))\n",
    "        self.pin = ''\n",
    "        self.__balance = 0\n",
    "        #self.cid = 0\n",
    "        #self.cid += 1\n",
    "        self.cid = Atm.__counter\n",
    "        Atm.__counter = Atm.__counter +1\n",
    "        #self.menu()\n",
    "    \n",
    "    \n",
    "    #utility functions\n",
    "    @staticmethod    \n",
    "    def get_counter():\n",
    "        return Atm.__counter\n",
    "        \n",
    "        \n",
    "    def get_balance(self):\n",
    "        return self.__balance__\n",
    "    \n",
    "    def set_balance(self,new_value):\n",
    "        if type(new_value == int):\n",
    "            self.__balance = new_value\n",
    "        else:\n",
    "            print(\"You cannot change these in to value \")\n",
    "        \n",
    "        \n",
    "    def menu(self):\n",
    "        user_input = input(\"\"\"\n",
    "        Hi, How can i help you?\n",
    "        1. Press 1 to create pin\n",
    "        2. press 2 to change pin\n",
    "        3. press 3 to check balance\n",
    "        4. press 4 to withdraw\n",
    "        5. Anything else to exit\n",
    "        \"\"\")\n",
    "        \n",
    "        if user_input == '1':\n",
    "            self.create_pin()\n",
    "        elif user_input == '2':\n",
    "            self.change_pin()\n",
    "        elif user_input == '3':\n",
    "            self.check_balance()\n",
    "        elif user_input == '4':\n",
    "            self.withdraw()\n",
    "        else:\n",
    "            pass\n",
    "        \n",
    "    def create_pin (self):\n",
    "        user_pin = input('Enter your pin')\n",
    "        self.pin = user_pin\n",
    "        \n",
    "        user_balance = int(input(\"Enter your balance \"))\n",
    "        self.__balance = user_balance\n",
    "        \n",
    "        print('pin created successfully')\n",
    "        self.menu()\n",
    "        \n",
    "    def change_pin (self):\n",
    "        old_pin = input(\"enter your old pin \")\n",
    "        \n",
    "        if old_pin == self.pin:\n",
    "            new_pin = input(\"enter your new pin \")\n",
    "            self.pin = new_pin\n",
    "            print('pin change successfull')\n",
    "            self.menu()\n",
    "        else:\n",
    "            print('you are not eligible to change the pin')\n",
    "            self.menu()\n",
    "            \n",
    "    def check_balance(self):\n",
    "        user_pin1 = input('Enter your pin ')\n",
    "        if user_pin1 == self.pin:\n",
    "            print('your balance is ',self.__balance)\n",
    "            self.menu()\n",
    "        else:\n",
    "            print('your {} pin is not correct').format(user_Pin1)\n",
    "            self.menu()\n",
    "            \n",
    "    def withdraw(self):\n",
    "        user_pin2 = input(\"enter your pin \")\n",
    "        if user_pin2 == self.pin:\n",
    "            wdw = int(input('enter your amount to withdraw'))\n",
    "            if wdw <= self.__balance:\n",
    "                self.__balance = (self.__balance-wdw)\n",
    "                print(\"your current balance is \",self.__balance)\n",
    "                \n",
    "            else:\n",
    "                print(\"you don't have that much balance\")\n",
    "        else:\n",
    "            print('you need to enter right password')\n",
    "            \n",
    "        self.menu()"
   ]
  },
  {
   "cell_type": "code",
   "execution_count": 55,
   "id": "7cee4162",
   "metadata": {},
   "outputs": [
    {
     "name": "stdout",
     "output_type": "stream",
     "text": [
      "2760665238448\n"
     ]
    }
   ],
   "source": [
    "c1 = Atm()"
   ]
  },
  {
   "cell_type": "code",
   "execution_count": 49,
   "id": "804487ab",
   "metadata": {},
   "outputs": [
    {
     "name": "stdout",
     "output_type": "stream",
     "text": [
      "2760664319168\n"
     ]
    }
   ],
   "source": [
    "c2 = Atm()"
   ]
  },
  {
   "cell_type": "code",
   "execution_count": 50,
   "id": "79d37843",
   "metadata": {},
   "outputs": [
    {
     "name": "stdout",
     "output_type": "stream",
     "text": [
      "2760664319552\n"
     ]
    }
   ],
   "source": [
    "c3 = Atm()"
   ]
  },
  {
   "cell_type": "code",
   "execution_count": 51,
   "id": "d0930a37",
   "metadata": {},
   "outputs": [
    {
     "data": {
      "text/plain": [
       "1"
      ]
     },
     "execution_count": 51,
     "metadata": {},
     "output_type": "execute_result"
    }
   ],
   "source": [
    "c1.cid"
   ]
  },
  {
   "cell_type": "code",
   "execution_count": 52,
   "id": "4c987bfa",
   "metadata": {},
   "outputs": [
    {
     "data": {
      "text/plain": [
       "2"
      ]
     },
     "execution_count": 52,
     "metadata": {},
     "output_type": "execute_result"
    }
   ],
   "source": [
    "c2.cid"
   ]
  },
  {
   "cell_type": "code",
   "execution_count": 53,
   "id": "c0db1362",
   "metadata": {},
   "outputs": [
    {
     "data": {
      "text/plain": [
       "3"
      ]
     },
     "execution_count": 53,
     "metadata": {},
     "output_type": "execute_result"
    }
   ],
   "source": [
    "c3.cid"
   ]
  },
  {
   "cell_type": "code",
   "execution_count": 56,
   "id": "8b799d11",
   "metadata": {},
   "outputs": [
    {
     "ename": "TypeError",
     "evalue": "get_counter() takes 0 positional arguments but 1 was given",
     "output_type": "error",
     "traceback": [
      "\u001b[1;31m---------------------------------------------------------------------------\u001b[0m",
      "\u001b[1;31mTypeError\u001b[0m                                 Traceback (most recent call last)",
      "Input \u001b[1;32mIn [56]\u001b[0m, in \u001b[0;36m<cell line: 1>\u001b[1;34m()\u001b[0m\n\u001b[1;32m----> 1\u001b[0m \u001b[43mc1\u001b[49m\u001b[38;5;241;43m.\u001b[39;49m\u001b[43mget_counter\u001b[49m\u001b[43m(\u001b[49m\u001b[43m)\u001b[49m\n",
      "\u001b[1;31mTypeError\u001b[0m: get_counter() takes 0 positional arguments but 1 was given"
     ]
    }
   ],
   "source": [
    "c1.get_counter()"
   ]
  },
  {
   "cell_type": "code",
   "execution_count": 57,
   "id": "137a703a",
   "metadata": {},
   "outputs": [
    {
     "data": {
      "text/plain": [
       "2"
      ]
     },
     "execution_count": 57,
     "metadata": {},
     "output_type": "execute_result"
    }
   ],
   "source": [
    "Atm.get_counter()"
   ]
  },
  {
   "cell_type": "markdown",
   "id": "89e11545",
   "metadata": {},
   "source": [
    "# Encapsulation"
   ]
  },
  {
   "cell_type": "code",
   "execution_count": 2,
   "id": "760e2695",
   "metadata": {},
   "outputs": [],
   "source": [
    "# Pascal Case   (HelloWorld--> each word starts with capital letter)\n",
    "class Atm :         #(MyAtm is the correct syntax MYATM is not the correct syntax)\n",
    "    \n",
    "    # constructor(special function)-->> superpower->\n",
    "    def __init__(self):\n",
    "        print(id(self))\n",
    "        self.pin = ''\n",
    "        self.__balance = 0\n",
    "        #self.menu()\n",
    "        \n",
    "        \n",
    "        \n",
    "    def get_balance(self):\n",
    "        return self.__balance\n",
    "    \n",
    "    \n",
    "    def set_balance(self,new_value):\n",
    "        if type(new_value) == int:\n",
    "            self.__balance = new_value\n",
    "        else:\n",
    "            print(\"Beta bahut maarenge\")\n",
    "        \n",
    "        \n",
    "        \n",
    "    def __menu(self):\n",
    "        user_input = input(\"\"\"\n",
    "        Hi, How can i help you?\n",
    "        1. Press 1 to create pin\n",
    "        2. press 2 to change pin\n",
    "        3. press 3 to check balance\n",
    "        4. press 4 to withdraw\n",
    "        5. Anything else to exit\n",
    "        \"\"\")\n",
    "        \n",
    "        if user_input == '1':\n",
    "            self.create_pin()\n",
    "        elif user_input == '2':\n",
    "            self.change_pin()\n",
    "        elif user_input == '3':\n",
    "            self.check_balance()\n",
    "        elif user_input == '4':\n",
    "            self.withdraw()\n",
    "        else:\n",
    "            pass\n",
    "        \n",
    "    def create_pin (self):\n",
    "        user_pin = input('Enter your pin')\n",
    "        self.pin = user_pin\n",
    "        \n",
    "        user_balance = int(input(\"Enter your balance \"))\n",
    "        self.__balance = user_balance\n",
    "        \n",
    "        print('pin created successfully')\n",
    "        \n",
    "    def change_pin (self):\n",
    "        old_pin = input(\"enter your old pin \")\n",
    "        \n",
    "        if old_pin == self.pin:\n",
    "            new_pin = input(\"enter your new pin \")\n",
    "            self.pin = new_pin\n",
    "            print('pin change successfull')\n",
    "        else:\n",
    "            print('you are not eligible to change the pin')\n",
    "            \n",
    "    def check_balance(self):\n",
    "        user_pin1 = input('Enter your pin ')\n",
    "        if user_pin1 == self.pin:\n",
    "            print('your balance is ',self.__balance)\n",
    "        else:\n",
    "            print('your {} pin is not correct').format(user_Pin1)\n",
    "            \n",
    "    def withdraw(self):\n",
    "        user_pin2 = input(\"enter your pin \")\n",
    "        if user_pin2 == self.pin:\n",
    "            wdw = int(input('enter your amount to withdraw'))\n",
    "            if wdw <= self.__balance:\n",
    "                self.__balance = (self.__balance-wdw)\n",
    "                print(\"your current balance is \",self.__balance)\n",
    "                \n",
    "            else:\n",
    "                print(\"you don't have that much balance\")\n",
    "        else:\n",
    "            print('you need to enter right password')\n",
    "            \n"
   ]
  },
  {
   "cell_type": "code",
   "execution_count": 3,
   "id": "13c1e2d5",
   "metadata": {},
   "outputs": [
    {
     "name": "stdout",
     "output_type": "stream",
     "text": [
      "2210200522368\n"
     ]
    }
   ],
   "source": [
    "obj = Atm()"
   ]
  },
  {
   "cell_type": "code",
   "execution_count": 4,
   "id": "91c8016e",
   "metadata": {},
   "outputs": [
    {
     "name": "stdout",
     "output_type": "stream",
     "text": [
      "Enter your pin1234\n",
      "Enter your balance 1000000\n",
      "pin created successfully\n"
     ]
    }
   ],
   "source": [
    "obj.create_pin()\n",
    "obj.balance = 'hehehe'"
   ]
  },
  {
   "cell_type": "code",
   "execution_count": 5,
   "id": "3599014a",
   "metadata": {},
   "outputs": [
    {
     "data": {
      "text/plain": [
       "1000000"
      ]
     },
     "execution_count": 5,
     "metadata": {},
     "output_type": "execute_result"
    }
   ],
   "source": [
    "obj.get_balance()"
   ]
  },
  {
   "cell_type": "code",
   "execution_count": 6,
   "id": "eb1a803c",
   "metadata": {},
   "outputs": [
    {
     "name": "stdout",
     "output_type": "stream",
     "text": [
      "Beta bahut maarenge\n"
     ]
    }
   ],
   "source": [
    "obj.set_balance('hehehe')"
   ]
  },
  {
   "cell_type": "code",
   "execution_count": 7,
   "id": "ad1baec2",
   "metadata": {},
   "outputs": [],
   "source": [
    "obj.set_balance(500000)"
   ]
  },
  {
   "cell_type": "code",
   "execution_count": 8,
   "id": "408b0f3d",
   "metadata": {},
   "outputs": [
    {
     "name": "stdout",
     "output_type": "stream",
     "text": [
      "enter your pin 1234\n",
      "enter your amount to withdraw5000\n",
      "your current balance is  495000\n"
     ]
    }
   ],
   "source": [
    "obj.withdraw()"
   ]
  },
  {
   "cell_type": "code",
   "execution_count": 9,
   "id": "0abd8ad0",
   "metadata": {},
   "outputs": [
    {
     "name": "stdout",
     "output_type": "stream",
     "text": [
      "Enter your pin1234\n",
      "Enter your balance 4567\n",
      "pin created successfully\n"
     ]
    }
   ],
   "source": [
    "obj.create_pin()\n",
    "obj._Atm__balance = 'hehehe'"
   ]
  },
  {
   "cell_type": "code",
   "execution_count": 10,
   "id": "d3bbc0f9",
   "metadata": {},
   "outputs": [
    {
     "name": "stdout",
     "output_type": "stream",
     "text": [
      "Beta bahut maarenge\n"
     ]
    }
   ],
   "source": [
    "obj.set_balance('hehehehahaha')"
   ]
  },
  {
   "cell_type": "markdown",
   "id": "e3bbfd6a",
   "metadata": {},
   "source": [
    "# Class Relationship\n",
    "\n",
    "#### Aggregation\n",
    "#### Inheritance"
   ]
  },
  {
   "cell_type": "code",
   "execution_count": 18,
   "id": "74cbba7d",
   "metadata": {},
   "outputs": [
    {
     "name": "stdout",
     "output_type": "stream",
     "text": [
      "khagaria 851204 Bihar\n",
      "Nehru Vihar 100023 New Delhi\n"
     ]
    }
   ],
   "source": [
    "class Customer:\n",
    "    def __init__(self,name,gender,address):\n",
    "        self.name = name\n",
    "        self.gender = gender\n",
    "        self.address = address\n",
    "        \n",
    "        \n",
    "    def print_address(self):\n",
    "        print(self.address.get_city(),self.address.pin,self.address.state)\n",
    "            \n",
    "    \n",
    "    def edit_profile(self,new_name,new_city,new_pin,new_state):\n",
    "        self.name = new_name\n",
    "        self.address.edit_address(new_city,new_pin,new_state)\n",
    "    \n",
    "    \n",
    "        \n",
    "class Address:\n",
    "    \n",
    "    \n",
    "    def __init__(self,city,pin,state):\n",
    "        self.__city = city\n",
    "        self.pin = pin\n",
    "        self.state = state\n",
    "        \n",
    "    def get_city(self):\n",
    "        return self.__city\n",
    "        \n",
    "     \n",
    "    def edit_address(self,new_city,new_pin,new_state):\n",
    "        self.__city = new_city\n",
    "        self.pin = new_pin\n",
    "        self.state = new_state\n",
    "    \n",
    "    \n",
    "add1 = Address('khagaria',851204,'Bihar')\n",
    "cust = Customer('Gourab','male',add1)\n",
    "\n",
    "cust.print_address()\n",
    "\n",
    "cust.edit_profile('saurav','Nehru Vihar',100023, 'New Delhi')\n",
    "cust.print_address()"
   ]
  },
  {
   "cell_type": "raw",
   "id": "e9a883e4",
   "metadata": {
    "slideshow": {
     "slide_type": "slide"
    }
   },
   "source": [
    "in class -(➖ minus) represents that these are private variables and +(➕ plus) represents that these are public variables"
   ]
  },
  {
   "cell_type": "markdown",
   "id": "d8d1bb06",
   "metadata": {},
   "source": [
    "# Inheritance"
   ]
  },
  {
   "cell_type": "code",
   "execution_count": 27,
   "id": "5540abd6",
   "metadata": {},
   "outputs": [
    {
     "name": "stdout",
     "output_type": "stream",
     "text": [
      "Gourab\n",
      "login\n",
      "enroll into the course\n"
     ]
    }
   ],
   "source": [
    "# Parent class\n",
    "class User:\n",
    "    \n",
    "    \n",
    "    def __init__(self):\n",
    "        self.name = 'Gourab'\n",
    "        \n",
    "    def login(self):\n",
    "        print('login')\n",
    "# Child class       \n",
    "class Student(User):\n",
    "    \n",
    "    \n",
    "#    def __init__(self):\n",
    "#        self.rollno = 9\n",
    "        \n",
    "        \n",
    "    def enroll(self):\n",
    "        print('enroll into the course')\n",
    "\n",
    "        \n",
    "u = User()\n",
    "s = Student()\n",
    "\n",
    "print(s.name)\n",
    "#print(s.rollno)\n",
    "s.login()\n",
    "s.enroll()"
   ]
  },
  {
   "cell_type": "code",
   "execution_count": 30,
   "id": "9521f8be",
   "metadata": {},
   "outputs": [
    {
     "name": "stdout",
     "output_type": "stream",
     "text": [
      "Inside phone constructor\n",
      "Buying a phone\n"
     ]
    }
   ],
   "source": [
    "class  Phone:\n",
    "    \n",
    "    \n",
    "    def __init__(self,price,brand,camera):\n",
    "        print('Inside phone constructor')\n",
    "        self.price = price\n",
    "        self.brand = brand\n",
    "        self.camera = camera\n",
    "        \n",
    "    def buy(self):\n",
    "        print(\"Buying a phone\")\n",
    "        \n",
    "class SmartPhone(Phone):\n",
    "    pass\n",
    "\n",
    "s = SmartPhone(20000,'Apple',13)\n",
    "s.buy()"
   ]
  },
  {
   "cell_type": "code",
   "execution_count": 32,
   "id": "9cbf576a",
   "metadata": {},
   "outputs": [
    {
     "name": "stdout",
     "output_type": "stream",
     "text": [
      "inside Smart Phone constructor\n"
     ]
    }
   ],
   "source": [
    "class Phone:\n",
    "    def __init__(self,price,brand,camera) :\n",
    "        print(\"Inside phone constructor\")\n",
    "        self.__price = price\n",
    "        self.brand = brand\n",
    "        self.camera = camera\n",
    "        \n",
    "        \n",
    "class SmartPhone(Phone):\n",
    "    def __init__(self,os,ram):\n",
    "        self.os = os\n",
    "        self.ram = ram\n",
    "        print(\"inside Smart Phone constructor\")\n",
    "        \n",
    "s = SmartPhone(\"Android\",2)"
   ]
  },
  {
   "cell_type": "code",
   "execution_count": 33,
   "id": "ed6a1e2a",
   "metadata": {},
   "outputs": [
    {
     "name": "stdout",
     "output_type": "stream",
     "text": [
      "100\n",
      "This is in child class\n"
     ]
    }
   ],
   "source": [
    "class Parent:\n",
    "    \n",
    "    \n",
    "    def __init__(self,num):\n",
    "        self.__num = num\n",
    "        \n",
    "    def get_num (self):\n",
    "        return self.__num\n",
    "    \n",
    "    \n",
    "class Child(Parent):\n",
    "    \n",
    "    \n",
    "    def show(self):\n",
    "        print(\"This is in child class\")\n",
    "        \n",
    "        \n",
    "son = Child(100)\n",
    "print(son.get_num())\n",
    "son.show()"
   ]
  },
  {
   "cell_type": "code",
   "execution_count": 34,
   "id": "5ad1f03e",
   "metadata": {},
   "outputs": [
    {
     "ename": "AttributeError",
     "evalue": "'Child' object has no attribute '_Parent__num'",
     "output_type": "error",
     "traceback": [
      "\u001b[1;31m---------------------------------------------------------------------------\u001b[0m",
      "\u001b[1;31mAttributeError\u001b[0m                            Traceback (most recent call last)",
      "Input \u001b[1;32mIn [34]\u001b[0m, in \u001b[0;36m<cell line: 20>\u001b[1;34m()\u001b[0m\n\u001b[0;32m     16\u001b[0m         \u001b[38;5;28;01mreturn\u001b[39;00m \u001b[38;5;28mself\u001b[39m\u001b[38;5;241m.\u001b[39m__val\n\u001b[0;32m     19\u001b[0m son \u001b[38;5;241m=\u001b[39m Child(\u001b[38;5;241m100\u001b[39m,\u001b[38;5;241m10\u001b[39m)\n\u001b[1;32m---> 20\u001b[0m \u001b[38;5;28mprint\u001b[39m(\u001b[38;5;124m\"\u001b[39m\u001b[38;5;124mParent : Num:\u001b[39m\u001b[38;5;124m\"\u001b[39m,\u001b[43mson\u001b[49m\u001b[38;5;241;43m.\u001b[39;49m\u001b[43mget_num\u001b[49m\u001b[43m(\u001b[49m\u001b[43m)\u001b[49m)\n\u001b[0;32m     21\u001b[0m \u001b[38;5;28mprint\u001b[39m(\u001b[38;5;124m\"\u001b[39m\u001b[38;5;124mChild : Val:\u001b[39m\u001b[38;5;124m\"\u001b[39m,son\u001b[38;5;241m.\u001b[39mget_val())\n",
      "Input \u001b[1;32mIn [34]\u001b[0m, in \u001b[0;36mParent.get_num\u001b[1;34m(self)\u001b[0m\n\u001b[0;32m      7\u001b[0m \u001b[38;5;28;01mdef\u001b[39;00m \u001b[38;5;21mget_num\u001b[39m(\u001b[38;5;28mself\u001b[39m):\n\u001b[1;32m----> 8\u001b[0m     \u001b[38;5;28;01mreturn\u001b[39;00m \u001b[38;5;28;43mself\u001b[39;49m\u001b[38;5;241;43m.\u001b[39;49m\u001b[43m__num\u001b[49m\n",
      "\u001b[1;31mAttributeError\u001b[0m: 'Child' object has no attribute '_Parent__num'"
     ]
    }
   ],
   "source": [
    "class Parent:\n",
    "    \n",
    "    \n",
    "    def __init__(self,num):\n",
    "        self.__num = num\n",
    "        \n",
    "    def get_num(self):\n",
    "        return self.__num\n",
    "    \n",
    "class Child(Parent):\n",
    "    \n",
    "    def __init__(self,val,num):\n",
    "        self.__val = val\n",
    "        \n",
    "    def get_val(self):\n",
    "        return self.__val\n",
    "    \n",
    "    \n",
    "son = Child(100,10)\n",
    "print(\"Parent : Num:\",son.get_num())\n",
    "print(\"Child : Val:\",son.get_val())"
   ]
  },
  {
   "cell_type": "code",
   "execution_count": 37,
   "id": "c910a17f",
   "metadata": {},
   "outputs": [
    {
     "name": "stdout",
     "output_type": "stream",
     "text": [
      "class A : 100\n"
     ]
    }
   ],
   "source": [
    "class A:\n",
    "    def __init__(self):\n",
    "        self.var1 = 100\n",
    "        \n",
    "    def display1(self,var1):\n",
    "        #self.var1 = var1\n",
    "        print(\"class A :\",self.var1)\n",
    "        \n",
    "class B(A):\n",
    "    \n",
    "    \n",
    "    def display2(self,var1):\n",
    "        print(\"class B :\",self.var1)\n",
    "        \n",
    "obj = B()\n",
    "obj.display1(200)"
   ]
  },
  {
   "cell_type": "code",
   "execution_count": 38,
   "id": "3de409ec",
   "metadata": {},
   "outputs": [
    {
     "name": "stdout",
     "output_type": "stream",
     "text": [
      "Inside phone constructor\n",
      "Buying a phone\n"
     ]
    }
   ],
   "source": [
    "# Method overriding\n",
    "\n",
    "class Phone:\n",
    "    \n",
    "    def __init__(self,price,brand,camera):\n",
    "        print(\"Inside phone constructor\")\n",
    "        self.__price = price\n",
    "        self.brand = brand\n",
    "        self.camera = camera\n",
    "        \n",
    "    def buy(self):\n",
    "        print('Buying a phone')\n",
    "        \n",
    "class SmartPhone(Phone):\n",
    "    def buy(self):\n",
    "        print('Buying a smartphone')\n",
    "        \n",
    "s = Smartphone(200000,'Apple',13)\n",
    "s.buy()\n"
   ]
  },
  {
   "cell_type": "code",
   "execution_count": 40,
   "id": "0e5139d9",
   "metadata": {},
   "outputs": [
    {
     "name": "stdout",
     "output_type": "stream",
     "text": [
      "Inside phone constructor\n",
      "Buying a phone\n"
     ]
    }
   ],
   "source": [
    "##  Super Keyword\n",
    "\n",
    "\n",
    "\n",
    "class Phone:\n",
    "    \n",
    "    def __init__(self,price,brand,camera):\n",
    "        print(\"Inside phone constructor\")\n",
    "        self.__price = price\n",
    "        self.brand = brand\n",
    "        self.camera = camera\n",
    "        \n",
    "    def buy(self):\n",
    "        print('Buying a phone')\n",
    "        \n",
    "class SmartPhone(Phone):\n",
    "    def buy(self):\n",
    "        print('Buying a smartphone')\n",
    "        # Syntax to call parent ka buy method\n",
    "        super().buy()\n",
    "        \n",
    "s = Smartphone(200000,'Apple',13)\n",
    "s.buy()\n"
   ]
  },
  {
   "cell_type": "code",
   "execution_count": 41,
   "id": "336863e6",
   "metadata": {},
   "outputs": [
    {
     "name": "stdout",
     "output_type": "stream",
     "text": [
      "Inside phone constructor\n",
      "Inside smartphone constructor\n",
      "Android\n",
      "Samsung\n"
     ]
    }
   ],
   "source": [
    "# Super --> constructor\n",
    "\n",
    "class Phone:\n",
    "    \n",
    "    def __init__(self,price,brand,camera):\n",
    "        print(\"Inside phone constructor\")\n",
    "        self.__price = price\n",
    "        self.brand = brand\n",
    "        self.camera = camera\n",
    "        \n",
    "class SmartPhone(Phone):\n",
    "    \n",
    "    def __init__(self,price,brand,camera,os,ram):\n",
    "        super().__init__(price,brand,camera)\n",
    "        self.os = os\n",
    "        self.ram = ram\n",
    "        print(\"Inside smartphone constructor\")\n",
    "        \n",
    "s = SmartPhone(20000,'Samsung',12,'Android',2)\n",
    "\n",
    "print(s.os)\n",
    "print(s.brand)"
   ]
  },
  {
   "cell_type": "code",
   "execution_count": 42,
   "id": "4f484f31",
   "metadata": {},
   "outputs": [
    {
     "name": "stdout",
     "output_type": "stream",
     "text": [
      "100\n",
      "200\n"
     ]
    }
   ],
   "source": [
    "class Parent:\n",
    "    \n",
    "    def __init__(self,num):\n",
    "        self.__num  = num\n",
    "        \n",
    "    def get_num(self):\n",
    "        return self.__num\n",
    "    \n",
    "class Child(Parent):\n",
    "    \n",
    "    def __init__(self, num, val):\n",
    "        super().__init__(num)\n",
    "        self.__val = val\n",
    "        \n",
    "    def get_val(self):\n",
    "        return self.__val\n",
    "    \n",
    "son = Child(100,200)\n",
    "print(son.get_num())\n",
    "print(son.get_val())"
   ]
  },
  {
   "cell_type": "code",
   "execution_count": 43,
   "id": "f74e9a04",
   "metadata": {},
   "outputs": [
    {
     "name": "stdout",
     "output_type": "stream",
     "text": [
      "100\n",
      "200\n"
     ]
    }
   ],
   "source": [
    "class Parent:\n",
    "    \n",
    "    def __init__(self):\n",
    "        self.num  = 100\n",
    "        \n",
    "class Child(Parent):\n",
    "    \n",
    "    \n",
    "    def __init__(self):\n",
    "        super().__init__()\n",
    "        self.var = 200\n",
    "        \n",
    "    def show (self):\n",
    "        print(self.num)\n",
    "        print(self.var)\n",
    "        \n",
    "son = Child()\n",
    "son.show()"
   ]
  },
  {
   "cell_type": "code",
   "execution_count": 44,
   "id": "4405b9ec",
   "metadata": {},
   "outputs": [
    {
     "name": "stdout",
     "output_type": "stream",
     "text": [
      "Inside phone constructor\n",
      "Buying a phone\n"
     ]
    }
   ],
   "source": [
    "class Phone:\n",
    "    \n",
    "    def __init__(self,price,brand,camera):\n",
    "        print(\"Inside phone constructor\")\n",
    "        self.__price = price\n",
    "        self.brand = brand\n",
    "        self.camera = camera\n",
    "        \n",
    "    def buy(self):\n",
    "        print('Buying a phone')\n",
    "        \n",
    "class SmartPhone(Phone):\n",
    "    pass\n",
    "    \n",
    "SmartPhone(1000,'Apple','13px').buy()  "
   ]
  },
  {
   "cell_type": "code",
   "execution_count": 46,
   "id": "b7f2fff9",
   "metadata": {},
   "outputs": [
    {
     "name": "stdout",
     "output_type": "stream",
     "text": [
      "Inside phone constructor\n",
      "Buying a phone\n",
      "product customer review\n"
     ]
    }
   ],
   "source": [
    "class Product:\n",
    "    def review(self):\n",
    "        print(\"product customer review\")\n",
    "        \n",
    "class Phone(Product):\n",
    "    \n",
    "    def __init__(self,price,brand,camera):\n",
    "        print(\"Inside phone constructor\")\n",
    "        self.__price = price\n",
    "        self.brand = brand\n",
    "        self.camera = camera\n",
    "        \n",
    "    def buy(self):\n",
    "        print(\"Buying a phone\")\n",
    "        \n",
    "        \n",
    "class SmartPhone(Phone):\n",
    "    pass\n",
    "\n",
    "\n",
    "s = SmartPhone(20000,'Apple',12)\n",
    "\n",
    "s.buy()\n",
    "s.review()\n"
   ]
  },
  {
   "cell_type": "code",
   "execution_count": 47,
   "id": "7b1e80b4",
   "metadata": {},
   "outputs": [
    {
     "name": "stdout",
     "output_type": "stream",
     "text": [
      "Inside phone constructor\n",
      "Buying a phone\n",
      "Inside phone constructor\n",
      "Buying a phone\n"
     ]
    }
   ],
   "source": [
    "# Heirarchical\n",
    "class Phone:\n",
    "    \n",
    "    def __init__(self,price,brand,camera):\n",
    "        print(\"Inside phone constructor\")\n",
    "        self.__price = price\n",
    "        self.brand = brand\n",
    "        self.camera = camera\n",
    "        \n",
    "    def buy(self):\n",
    "        print(\"Buying a phone\")\n",
    "        \n",
    "        \n",
    "class SmartPhone(Phone):\n",
    "    pass\n",
    "\n",
    "class FeaturePhone(Phone):\n",
    "    pass\n",
    "\n",
    "SmartPhone(1000,'Apple','13px').buy()\n",
    "FeaturePhone(10,'Lava','1px').buy()"
   ]
  },
  {
   "cell_type": "code",
   "execution_count": 48,
   "id": "5a4cedcc",
   "metadata": {},
   "outputs": [
    {
     "name": "stdout",
     "output_type": "stream",
     "text": [
      "Buying a phone\n",
      "product customer review\n"
     ]
    }
   ],
   "source": [
    "#MULTIPLE\n",
    "\n",
    "class Phone(Product):\n",
    "    \n",
    "    def __init__(self,price,brand,camera):\n",
    "        print(\"Inside phone constructor\")\n",
    "        self.__price = price\n",
    "        self.brand = brand\n",
    "        self.camera = camera\n",
    "        \n",
    "    def buy(self):\n",
    "        print(\"Buying a phone\")\n",
    "        \n",
    "class Product:\n",
    "    def review(self):\n",
    "        print(\"product customer review\")\n",
    "        \n",
    "        \n",
    "class SmartPhone(Phone,Product):\n",
    "    pass\n",
    "\n",
    "s.buy()\n",
    "s.review()"
   ]
  },
  {
   "cell_type": "code",
   "execution_count": 49,
   "id": "c3855cdb",
   "metadata": {},
   "outputs": [
    {
     "name": "stdout",
     "output_type": "stream",
     "text": [
      "Inside phone constructor\n",
      "Buying a phone\n"
     ]
    }
   ],
   "source": [
    "#MULTIPLE\n",
    "\n",
    "class Phone(Product):\n",
    "    \n",
    "    def __init__(self,price,brand,camera):\n",
    "        print(\"Inside phone constructor\")\n",
    "        self.__price = price\n",
    "        self.brand = brand\n",
    "        self.camera = camera\n",
    "        \n",
    "    def buy(self):\n",
    "        print(\"Buying a phone\")\n",
    "        \n",
    "class Product:\n",
    "    def review(self):\n",
    "        print(\"product customer review\")\n",
    "        \n",
    "# Method resolution  order        \n",
    "class SmartPhone(Phone,Product):\n",
    "    pass\n",
    "\n",
    "\n",
    "s = SmartPhone(20000,'Apple',12)\n",
    "s.buy()"
   ]
  },
  {
   "cell_type": "code",
   "execution_count": 51,
   "id": "9405185e",
   "metadata": {},
   "outputs": [
    {
     "name": "stdout",
     "output_type": "stream",
     "text": [
      "70\n"
     ]
    }
   ],
   "source": [
    "class A:\n",
    "    def m1(self):\n",
    "        return 20\n",
    "    \n",
    "class B(A):\n",
    "    def m1(self):\n",
    "        return 30\n",
    "    \n",
    "    def m2(self):\n",
    "        return 40\n",
    "    \n",
    "class C(B):\n",
    "    def m2(self):\n",
    "        return 20\n",
    "    \n",
    "obj1 = A()\n",
    "obj2 = B()\n",
    "obj3 = C()\n",
    "print(obj1.m1() + obj3.m1() + obj3.m2())"
   ]
  },
  {
   "cell_type": "code",
   "execution_count": null,
   "id": "764375eb",
   "metadata": {},
   "outputs": [],
   "source": [
    "class A:\n",
    "    def m1(self):\n",
    "        return 20\n",
    "    \n",
    "class B(A):\n",
    "    \n",
    "    def m1(self):\n",
    "        val = super().m1()+30\n",
    "        return val\n",
    "    \n",
    "class C(B):\n",
    "    \n",
    "    def m1(self):\n",
    "        val = self.m1()+20\n",
    "        return val\n",
    "    \n",
    "obj = C()\n",
    "print(obj.m1())"
   ]
  },
  {
   "cell_type": "raw",
   "id": "46565707",
   "metadata": {},
   "source": [
    "RecursionError: maximum recursion depth exceeded"
   ]
  },
  {
   "cell_type": "markdown",
   "id": "53ef9485",
   "metadata": {},
   "source": [
    "## POLYMORPHISM"
   ]
  },
  {
   "cell_type": "code",
   "execution_count": 3,
   "id": "728272e6",
   "metadata": {},
   "outputs": [
    {
     "name": "stdout",
     "output_type": "stream",
     "text": [
      "12.56\n",
      "12\n"
     ]
    }
   ],
   "source": [
    "class Shape:\n",
    "    \n",
    "\n",
    "    def area(self,a,b=0):\n",
    "        if b==0:\n",
    "            return 3.14*a*a\n",
    "        else:\n",
    "            return a*b\n",
    "    \n",
    "    \n",
    "s = Shape()\n",
    "\n",
    "print(s.area(2))\n",
    "print(s.area(3,4))"
   ]
  },
  {
   "cell_type": "markdown",
   "id": "1c89f24f",
   "metadata": {},
   "source": [
    "# Abstraction"
   ]
  },
  {
   "cell_type": "code",
   "execution_count": 11,
   "id": "b87797f2",
   "metadata": {},
   "outputs": [],
   "source": [
    "from abc import ABC,abstractmethod\n",
    "\n",
    "\n",
    "class BankApp(ABC):\n",
    "    \n",
    "    \n",
    "    def database(self):\n",
    "        print('connected to database')\n",
    "        \n",
    "    @abstractmethod\n",
    "    def security(self):\n",
    "        pass\n",
    "    \n",
    "    @abstractmethod\n",
    "    def display(self):\n",
    "        pass"
   ]
  },
  {
   "cell_type": "code",
   "execution_count": 14,
   "id": "ffe6de70",
   "metadata": {},
   "outputs": [],
   "source": [
    "class MobileApp(BankApp):\n",
    "    \n",
    "    \n",
    "    def mobile_login(self):\n",
    "        print('login into mobile')\n",
    "        \n",
    "        \n",
    "    def security(self):\n",
    "        print('mobile security')\n",
    "        \n",
    "    def display(self):\n",
    "        print('display')"
   ]
  },
  {
   "cell_type": "code",
   "execution_count": 15,
   "id": "7041e0d9",
   "metadata": {},
   "outputs": [],
   "source": [
    "mob = MobileApp()"
   ]
  },
  {
   "cell_type": "code",
   "execution_count": 16,
   "id": "3f4656d7",
   "metadata": {},
   "outputs": [
    {
     "name": "stdout",
     "output_type": "stream",
     "text": [
      "mobile security\n"
     ]
    }
   ],
   "source": [
    "mob.security()"
   ]
  },
  {
   "cell_type": "code",
   "execution_count": null,
   "id": "5b609183",
   "metadata": {},
   "outputs": [],
   "source": []
  }
 ],
 "metadata": {
  "kernelspec": {
   "display_name": "Python 3 (ipykernel)",
   "language": "python",
   "name": "python3"
  },
  "language_info": {
   "codemirror_mode": {
    "name": "ipython",
    "version": 3
   },
   "file_extension": ".py",
   "mimetype": "text/x-python",
   "name": "python",
   "nbconvert_exporter": "python",
   "pygments_lexer": "ipython3",
   "version": "3.9.12"
  }
 },
 "nbformat": 4,
 "nbformat_minor": 5
}
